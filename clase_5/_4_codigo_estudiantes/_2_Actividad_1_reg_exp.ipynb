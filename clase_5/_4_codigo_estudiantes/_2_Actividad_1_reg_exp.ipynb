{
  "cells": [
    {
      "cell_type": "markdown",
      "metadata": {
        "id": "fFoMHC_1w76P"
      },
      "source": [
        "**NO sobrescribir este Notebook, favor de hacer unaa copia a la carpeta \"codigo_estudiantes\".**"
      ]
    },
    {
      "cell_type": "markdown",
      "metadata": {
        "id": "pAwWobhttmZd"
      },
      "source": [
        "# Ejercicio 1\n"
      ]
    },
    {
      "cell_type": "markdown",
      "metadata": {
        "id": "FjRP4DlHt4eh"
      },
      "source": [
        "**Búsqueda simple con search**\n"
      ]
    },
    {
      "cell_type": "markdown",
      "metadata": {
        "id": "Gu0T7WE1tTAT"
      },
      "source": [
        "Dada la cadena:\n",
        "`cadena = \"She sells sea shells by the seashore\"`\n",
        "<BR>\n",
        "Encuentra la primera palabra que empiece con \"se\" (ignora mayúsculas y minúsculas) y muestra su posición inicial y final."
      ]
    },
    {
      "cell_type": "code",
      "execution_count": 11,
      "metadata": {
        "id": "vh1pI8cguIkq"
      },
      "outputs": [
        {
          "name": "stdout",
          "output_type": "stream",
          "text": [
            "Primera palabra que empieza con 'se': sells\n",
            "Posición inicial: 4\n",
            "Posición final: 9\n",
            "sells 4 9\n"
          ]
        }
      ],
      "source": [
        "# Tu código aquí\n",
        "\n",
        "import re\n",
        "\n",
        "cadena = \"She sells sea shells by the seashore\"\n",
        "pattern=r\"se\\w*\"\n",
        "\n",
        "result = re.findall(pattern,cadena.lower())\n",
        "if result:\n",
        "    primera_palabra = result[0]\n",
        "    inicio = cadena.lower().index(primera_palabra)\n",
        "    fin = inicio + len(primera_palabra)\n",
        "    print(f\"Primera palabra que empieza con 'se': {primera_palabra}\")\n",
        "    print(f\"Posición inicial: {inicio}\")\n",
        "    print(f\"Posición final: {fin}\")\n",
        "else:\n",
        "    print(\"No se encontró ninguna palabra que empiece con 'se'.\")\n",
        "\n",
        "# -------------\n",
        "\n",
        "result = re.search(pattern,cadena.lower())\n",
        "print(result.group(), result.start(), result.end())"
      ]
    },
    {
      "cell_type": "markdown",
      "metadata": {
        "id": "B6PpSnPttzXf"
      },
      "source": [
        "# Ejercicio 2"
      ]
    },
    {
      "cell_type": "markdown",
      "metadata": {
        "id": "e_HIrn5_tauQ"
      },
      "source": [
        "**Uso de findall**"
      ]
    },
    {
      "cell_type": "markdown",
      "metadata": {
        "id": "l1QPvmfzuG3M"
      },
      "source": [
        "Con la misma cadena, encuentra todas las ocurrencias de \"sh\" y muéstralas en una lista."
      ]
    },
    {
      "cell_type": "code",
      "execution_count": 13,
      "metadata": {
        "id": "AYqau5AyucCb"
      },
      "outputs": [
        {
          "name": "stdout",
          "output_type": "stream",
          "text": [
            "['sh', 'sh', 'sh']\n"
          ]
        }
      ],
      "source": [
        "# Tu código aquí\n",
        "\n",
        "#result = re.findall(pattern,cadena.lower())\n",
        "result = re.findall(\"sh\",cadena.lower())\n",
        "print(result)"
      ]
    },
    {
      "cell_type": "markdown",
      "metadata": {
        "id": "0It813-Xue9l"
      },
      "source": [
        "# Ejercicio 3"
      ]
    },
    {
      "cell_type": "markdown",
      "metadata": {
        "id": "w2iaOeHNuhXs"
      },
      "source": [
        "**Metacaracteres . y ^**"
      ]
    },
    {
      "cell_type": "markdown",
      "metadata": {
        "id": "3HO9xJmNuHi6"
      },
      "source": [
        "Usa la cadena:\n",
        "<BR>\n",
        "`cadena = \"Peter Piper picked a peck of pickled peppers\"`\n",
        "<BR>\n",
        "1. Encuentra todas las palabras que empiecen con \"pi\".\n",
        "2. Encuentra todas las palabras que terminen en \"ed\".\n"
      ]
    },
    {
      "cell_type": "code",
      "execution_count": 15,
      "metadata": {
        "id": "b-gixSioutAy"
      },
      "outputs": [
        {
          "name": "stdout",
          "output_type": "stream",
          "text": [
            "['piper', 'picked', 'pickled']\n",
            "['picked', 'pickled']\n"
          ]
        }
      ],
      "source": [
        "# Tu código aquí\n",
        "\n",
        "cadena = \"Peter Piper picked a peck of pickled peppers\"\n",
        "\n",
        "pattern1 = \"pi\\w*\"\n",
        "pattern2 = \"\\w*ed\" \n",
        "\n",
        "print(re.findall(pattern1,cadena.lower()))\n",
        "print(re.findall(pattern2,cadena.lower()))"
      ]
    },
    {
      "cell_type": "markdown",
      "metadata": {
        "id": "rETrDp5BuwfM"
      },
      "source": [
        "# Ejercicio 4"
      ]
    },
    {
      "cell_type": "markdown",
      "metadata": {
        "id": "o5QpCsLGuz5i"
      },
      "source": [
        "**Caracteres especiales escapados**"
      ]
    },
    {
      "cell_type": "markdown",
      "metadata": {
        "id": "lByRDXSLu2d1"
      },
      "source": [
        "Dada la cadena:\n",
        "<BR>\n",
        "`cadena = \"El precio del producto es $59.99\"`\n",
        "<BR>\n",
        "1. Encuentra el valor que aparece después del símbolo $.\n",
        "2. Busca el separador decimal \".\" de manera literal."
      ]
    },
    {
      "cell_type": "code",
      "execution_count": 20,
      "metadata": {
        "id": "n_uHrWAixFxD"
      },
      "outputs": [
        {
          "name": "stdout",
          "output_type": "stream",
          "text": [
            "['$59.99']\n",
            "['.']\n"
          ]
        }
      ],
      "source": [
        "# Tu código aquí\n",
        "\n",
        "cadena = \"El precio del producto es $59.99\"\n",
        "\n",
        "pattern1 = \"\\$[0-9.]*\"\n",
        "pattern2 = \"\\.\"\n",
        "\n",
        "print(re.findall(pattern1, cadena))\n",
        "print(re.findall(pattern2, cadena))"
      ]
    },
    {
      "cell_type": "markdown",
      "metadata": {
        "id": "6bpm1BZWu8hf"
      },
      "source": [
        "# Ejercicio 5"
      ]
    },
    {
      "cell_type": "markdown",
      "metadata": {
        "id": "WGO2Y-Jju_NS"
      },
      "source": [
        "**Conjuntos de caracteres []**"
      ]
    },
    {
      "cell_type": "markdown",
      "metadata": {
        "id": "j607q2pOvAwr"
      },
      "source": [
        "Dada la cadena:\n",
        "<BR>\n",
        "`text = \"En un rato llega el pato a la granja de Tato\"`\n",
        "<BR>\n",
        "Encuentra todas las palabras que terminen en \"ato\" y que empiecen con r, p o t."
      ]
    },
    {
      "cell_type": "code",
      "execution_count": 24,
      "metadata": {
        "id": "-aHo9FhcxGiB"
      },
      "outputs": [
        {
          "name": "stdout",
          "output_type": "stream",
          "text": [
            "['rato', 'pato']\n"
          ]
        }
      ],
      "source": [
        "# Tu código aquí\n",
        "text = \"En un rato llega el pato a la granja de Tato\"\n",
        "\n",
        "pattern= \"[rpt][A-Za-z]*ato\"\n",
        "print(re.findall(pattern,text))"
      ]
    },
    {
      "cell_type": "markdown",
      "metadata": {
        "id": "2q5UPLGavGG9"
      },
      "source": [
        "# Ejercicio 6"
      ]
    },
    {
      "cell_type": "markdown",
      "metadata": {
        "id": "YK6E3U2ivHim"
      },
      "source": [
        "**Rangos y negaciones**"
      ]
    },
    {
      "cell_type": "markdown",
      "metadata": {
        "id": "kYoMZE1AvJP1"
      },
      "source": [
        "Dada la cadena:\n",
        "<BR>\n",
        "`direccion = \"Av. Corrientes 1234 Piso 5\"`\n",
        "<BR>\n",
        "1. Extrae solo las letras minúsculas [a-z].\n",
        "2, Extrae solo los números [0-9].\n",
        "3. Extrae todos los caracteres que no sean números ([^0-9])."
      ]
    },
    {
      "cell_type": "code",
      "execution_count": 29,
      "metadata": {
        "id": "Z3aLiuOzxHOk"
      },
      "outputs": [
        {
          "name": "stdout",
          "output_type": "stream",
          "text": [
            "['v', 'o', 'r', 'r', 'i', 'e', 'n', 't', 'e', 's', 'i', 's', 'o']\n",
            "['1', '2', '3', '4', '5']\n",
            "['A', 'v', '.', ' ', 'C', 'o', 'r', 'r', 'i', 'e', 'n', 't', 'e', 's', ' ', ' ', 'P', 'i', 's', 'o', ' ']\n"
          ]
        }
      ],
      "source": [
        "# Tu código aquí\n",
        "direccion = \"Av. Corrientes 1234 Piso 5\"\n",
        "pattern1= \"[a-z]\"\n",
        "pattern2=\"\\d\"\n",
        "pattern3=\"\\D\"\n",
        "\n",
        "print(re.findall(pattern1,direccion))\n",
        "print(re.findall(pattern2,direccion))\n",
        "print(re.findall(pattern3,direccion))"
      ]
    },
    {
      "cell_type": "markdown",
      "metadata": {
        "id": "m1zjEWgOvQPQ"
      },
      "source": [
        "# Ejercicio 7"
      ]
    },
    {
      "cell_type": "markdown",
      "metadata": {
        "id": "KMW9NGcOvTj1"
      },
      "source": [
        "**Cuantificadores**"
      ]
    },
    {
      "cell_type": "markdown",
      "metadata": {
        "id": "8Lntme49vVFB"
      },
      "source": [
        "Dada la lista:\n",
        "<BR>\n",
        "`numeros = [\"12\", \"102\", \"1002\", \"10002\", \"1000002\"]`\n",
        "<BR>\n",
        "1. Encuentra con regex los números que tengan exactamente un 0 entre el 1 y el 2.\n",
        "2. Encuentra los que tengan uno o más ceros.\n",
        "3. Encuentra los que tengan cero o más ceros."
      ]
    },
    {
      "cell_type": "code",
      "execution_count": 45,
      "metadata": {
        "id": "4jXandvnxH8n"
      },
      "outputs": [
        {
          "name": "stdout",
          "output_type": "stream",
          "text": [
            "['102']\n",
            "['102', '1002', '10002', '1000002']\n",
            "['12', '102', '1002', '10002', '1000002']\n"
          ]
        }
      ],
      "source": [
        "# Tu código aquí\n",
        "numeros = [\"12\", \"102\", \"1002\", \"10002\", \"1000002\"]\n",
        "\n",
        "pattern1=\"[1][0][2]\" \n",
        "pattern2=\"[1][0]+[2]\" \n",
        "pattern3=\"[1][0]*[2]\" \n",
        "\n",
        "#es = [n for n in numeros if re.match(pattern1,n)]\n",
        "res1 = list(filter(lambda x: re.match(pattern1,x)  , numeros))\n",
        "res2 = list(filter(lambda x: re.match(pattern2,x)  , numeros))\n",
        "res3 = list(filter(lambda x: re.match(pattern3,x)  , numeros))\n",
        "\n",
        "print(res1)\n",
        "print(res2)\n",
        "print(res3)"
      ]
    },
    {
      "cell_type": "markdown",
      "metadata": {
        "id": "OXHU9BnNvdHl"
      },
      "source": [
        "# Ejercicio 8"
      ]
    },
    {
      "cell_type": "markdown",
      "metadata": {
        "id": "dhkGW3nMvfzf"
      },
      "source": [
        "**Grupos de captura**"
      ]
    },
    {
      "cell_type": "markdown",
      "metadata": {
        "id": "MLMatJQ5vhng"
      },
      "source": [
        "Dada la cadena:\n",
        "<BR>\n",
        "`text = \"Juan: 11-15-3456-7890, María: 11-15-6543-2109\"`\n",
        "<BR>\n",
        "Crea un patrón que extraiga cada número de celular en tres grupos:\n",
        "1. código de área (11)\n",
        "2. prefijo (15-xxxx)\n",
        "3. número final (xxxx)\n",
        "\n",
        "Imprime cada número completo y sus partes."
      ]
    },
    {
      "cell_type": "code",
      "execution_count": 50,
      "metadata": {
        "id": "XALUo-EcxIla"
      },
      "outputs": [
        {
          "name": "stdout",
          "output_type": "stream",
          "text": [
            "['11-15-3456-7890', '11-15-6543-2109']\n",
            "['11-15-3456-7890', '11-15-6543-2109']\n",
            "['11-15-3456-7890', '11-15-6543-2109']\n"
          ]
        }
      ],
      "source": [
        "# Tu código aquí\n",
        "text = \"Juan: 11-15-3456-7890, María: 11-15-6543-2109\"\n",
        "\n",
        "pattern1 = \"11-[0-9]{2}-[0-9]{4}-[0-9]{4}\"\n",
        "pattern2 = \"[0-9]{2}-15-[0-9]{4}-[0-9]{4}\"\n",
        "pattern3 = \"[0-9]{2}-[0-9]{2}-[0-9]{4}-[0-9]{4}\"\n",
        "\n",
        "print(re.findall(pattern1,text))\n",
        "print(re.findall(pattern2,text))\n",
        "print(re.findall(pattern3,text))"
      ]
    },
    {
      "cell_type": "markdown",
      "metadata": {
        "id": "MQ5XSQU0vot9"
      },
      "source": [
        "# Ejercicio 9"
      ]
    },
    {
      "cell_type": "markdown",
      "metadata": {
        "id": "DK51g_45vrf3"
      },
      "source": [
        "**Sustitución con sub**"
      ]
    },
    {
      "cell_type": "markdown",
      "metadata": {
        "id": "_i6mZsUWvtQe"
      },
      "source": [
        "Dada la cadena:\n",
        "<BR>\n",
        "`text = \"El número de Pedro es 123-456-7890 y el de Ana es 987-654-3210\"`\n",
        "\n",
        "1. Reemplaza todos los números de teléfono por \"XXX-XXX-XXXX\".\n",
        "2. Reemplaza \"Pedro\" por \"Juan\"."
      ]
    },
    {
      "cell_type": "code",
      "execution_count": 54,
      "metadata": {
        "id": "OzAnOqxtxJGV"
      },
      "outputs": [
        {
          "name": "stdout",
          "output_type": "stream",
          "text": [
            "El número de Pedro es XXX-XXX-XXXX y el de Ana es XXX-XXX-XXXX\n",
            "El número de Juan es 123-456-7890 y el de Ana es 987-654-3210\n"
          ]
        }
      ],
      "source": [
        "# Tu código aquí\n",
        "text = \"El número de Pedro es 123-456-7890 y el de Ana es 987-654-3210\"\n",
        "pattern = \"[0-9]{3}-[0-9]{3}-[0-9]{4}\"\n",
        "print(re.sub(pattern,\"XXX-XXX-XXXX\",text))\n",
        "print(re.sub(\"Pedro\",\"Juan\",text))"
      ]
    },
    {
      "cell_type": "markdown",
      "metadata": {
        "id": "IYEuir74v2vK"
      },
      "source": [
        "# Ejercicio 10"
      ]
    },
    {
      "cell_type": "markdown",
      "metadata": {
        "id": "TJDvhoQcv6wK"
      },
      "source": [
        "**compile y reutilización de patrones**"
      ]
    },
    {
      "cell_type": "markdown",
      "metadata": {
        "id": "cdJo2Z84v9Uq"
      },
      "source": [
        "Dada la cadena:\n",
        "<BR>\n",
        "`cadena = \"07/08/2017 | 03/02/1984 | 17/03/1984\"`\n",
        "<BR>\n",
        "1. Usa re.compile para definir un patrón que encuentre años de 4 dígitos.\n",
        "2. Obtén todas las coincidencias con findall().\n",
        "3. Reemplaza los años por \"XXXX\"."
      ]
    },
    {
      "cell_type": "code",
      "execution_count": 55,
      "metadata": {
        "id": "-vygvhwLxJlY"
      },
      "outputs": [
        {
          "name": "stdout",
          "output_type": "stream",
          "text": [
            "['2017', '1984', '1984']\n",
            "07/08/XXXX | 03/02/XXXX | 17/03/XXXX\n"
          ]
        }
      ],
      "source": [
        "# Tu código aquí\n",
        "cadena = \"07/08/2017 | 03/02/1984 | 17/03/1984\"\n",
        "\n",
        "pattern = re.compile(\"[0-9]{4}\")\n",
        "print(re.findall(pattern, cadena))\n",
        "print(re.sub(pattern,\"XXXX\",cadena))"
      ]
    }
  ],
  "metadata": {
    "colab": {
      "provenance": []
    },
    "kernelspec": {
      "display_name": "Python 3",
      "name": "python3"
    },
    "language_info": {
      "codemirror_mode": {
        "name": "ipython",
        "version": 3
      },
      "file_extension": ".py",
      "mimetype": "text/x-python",
      "name": "python",
      "nbconvert_exporter": "python",
      "pygments_lexer": "ipython3",
      "version": "3.9.21"
    }
  },
  "nbformat": 4,
  "nbformat_minor": 0
}
